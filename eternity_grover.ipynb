{
 "cells": [
  {
   "cell_type": "code",
   "execution_count": 1,
   "metadata": {},
   "outputs": [],
   "source": [
    "import numpy as np\n",
    "%matplotlib inline\n",
    "import matplotlib.pyplot as plt\n",
    "import matplotlib.patches as patches\n",
    "from qiskit import *\n",
    "from qiskit.tools.visualization import plot_histogram\n",
    "import math"
   ]
  },
  {
   "cell_type": "code",
   "execution_count": 60,
   "metadata": {},
   "outputs": [
    {
     "data": {
      "image/png": "[encoded data removed]",
      "text/plain": [
       "<Figure size 432x288 with 1 Axes>"
      ]
     },
     "metadata": {
      "needs_background": "light"
     },
     "output_type": "display_data"
    }
   ],
   "source": [
    "def cplot(current_qubits, prb, qubo_prb):\n",
    "    num = 2\n",
    "           #グレー    \n",
    "    cmap=['#999999','#FFFF99','#CC99FF','#FF99FF','#99FF99','#99CCFF','#FFCCCC']\n",
    "    fig = plt.figure()\n",
    "    ax = plt.axes()\n",
    "    #ax = fig.add_subplot(111)\n",
    "    pcs = []\n",
    "    for item in current_qubits:\n",
    "        #print(item)\n",
    "        #print(qubo_prb[item][0], qubo_prb[item][1])\n",
    "        #print(prb[qubo_prb[item][0]][qubo_prb[item][1]])\n",
    "        pcs.append(prb[qubo_prb[item][0]][qubo_prb[item][1]])\n",
    "    #print(\"pcs:\", pcs)\n",
    "    for i in range(num*num):\n",
    "        x = i%num\n",
    "        #y = 5-i//num\n",
    "        y = 1-i//num\n",
    "        tri = plt.Polygon(((x,y),(x,y+1),(x+1/2,y+1/2)),ec='#000000', fill=False)\n",
    "        ax.add_patch(tri)\n",
    "        tri = plt.Polygon(((x,y+1),(x+1,y+1),(x+1/2,y+1/2)),ec='#000000', fill=False)\n",
    "        ax.add_patch(tri)\n",
    "        tri = plt.Polygon(((x+1,y),(x+1,y+1),(x+1/2,y+1/2)),ec='#000000', fill=False)\n",
    "        ax.add_patch(tri)\n",
    "        tri = plt.Polygon(((x,y),(x+1,y),(x+1/2,y+1/2)),ec='#000000', fill=False)\n",
    "        ax.add_patch(tri)\n",
    "\n",
    "    tmp=[]  #同じ場所にあるピース発見用\n",
    "    for i in range(len(pcs)):\n",
    "        location = pcs[i][0]\n",
    "        lcf = 0\n",
    "        if len(np.where(np.array(tmp)==location)[0])>0: lcf = 1\n",
    "        x = location%num\n",
    "        y = 1-location//num\n",
    "        for j in range(1, len(pcs[i])):\n",
    "            if lcf==0: cc = cmap[pcs[i][j]]\n",
    "            else: cc='#FF0000'\n",
    "            if j==1:\n",
    "                tri = plt.Polygon(((x,y),(x,y+1),(x+1/2,y+1/2)),fc=cc, fill=True)\n",
    "            if j==2:\n",
    "                tri = plt.Polygon(((x,y+1),(x+1,y+1),(x+1/2,y+1/2)),fc=cc, fill=True)\n",
    "            if j==3:\n",
    "                tri = plt.Polygon(((x+1,y),(x+1,y+1),(x+1/2,y+1/2)),fc=cc, fill=True)\n",
    "            if j==4:\n",
    "                tri = plt.Polygon(((x,y),(x+1,y),(x+1/2,y+1/2)),fc=cc, fill=True)\n",
    "            ax.add_patch(tri)\n",
    "            tmp.append(location)\n",
    "        ax.text(x, y+0.8,str(qubo_prb[current_qubits[i]][0]),color='black')\n",
    "    plt.axis('scaled')\n",
    "    ax.set_aspect('equal')\n",
    "    plt.show()"
   ]
  },
  {
   "cell_type": "code",
   "execution_count": 110,
   "metadata": {},
   "outputs": [],
   "source": [
    "pc = [\n",
    "    [0,0,1,2],\n",
    "    [0,2,3,0],\n",
    "    [1,0,0,4],\n",
    "    [0,0,3,4]]\n",
    "p = [\n",
    "    [0,0,1,2],\n",
    "    [0,0,2,3],\n",
    "    [0,0,4,1],\n",
    "    [0,0,3,4]]"
   ]
  },
  {
   "cell_type": "code",
   "execution_count": 111,
   "metadata": {},
   "outputs": [
    {
     "name": "stdout",
     "output_type": "stream",
     "text": [
      "pr,i: 0 [[0, 0, 1, 2], [0, 1, 2, 0], [1, 2, 0, 0], [2, 0, 0, 1]]\n",
      "pr,i: 1 [[0, 0, 2, 3], [0, 2, 3, 0], [2, 3, 0, 0], [3, 0, 0, 2]]\n",
      "pr,i: 2 [[0, 0, 4, 1], [0, 4, 1, 0], [4, 1, 0, 0], [1, 0, 0, 4]]\n",
      "pr,i: 3 [[0, 0, 3, 4], [0, 3, 4, 0], [3, 4, 0, 0], [4, 0, 0, 3]]\n"
     ]
    }
   ],
   "source": [
    "#回転したピースを作る\n",
    "#最初の１個は固定にするので回転なし\n",
    "pr = []\n",
    "for i, item in enumerate(p):\n",
    "    tmp = []\n",
    "    for j in range(4):\n",
    "        tmp2=[]\n",
    "        tmp2.extend(item[j:])\n",
    "        tmp2.extend(item[:j])\n",
    "        f=1\n",
    "        for item2 in tmp:\n",
    "            #すでに同じものが含まれていたら追加しない\n",
    "            if np.array_equal(tmp2, item2):\n",
    "                f=0\n",
    "                break\n",
    "        if f==1:tmp.append(tmp2)\n",
    "    pr.append(tmp)\n",
    "for i in range(len(pr)):\n",
    "    print(\"pr,i:\",i, pr[i])"
   ]
  },
  {
   "cell_type": "code",
   "execution_count": 112,
   "metadata": {},
   "outputs": [],
   "source": [
    "#ボードの位置\n",
    "# 00 01\n",
    "# 02 03"
   ]
  },
  {
   "cell_type": "code",
   "execution_count": 113,
   "metadata": {},
   "outputs": [],
   "source": [
    "def add_prb(prb, prb_qubo, qubo_prb, pi, location, pri):\n",
    "    tmp = [location]\n",
    "    tmp.extend(pri)\n",
    "    prb[pi].append(tmp)\n",
    "    prb_qubo[pi].append(len(qubo_prb))\n",
    "    qubo_prb.append([pi, len(prb_qubo[pi])-1])"
   ]
  },
  {
   "cell_type": "code",
   "execution_count": 114,
   "metadata": {},
   "outputs": [
    {
     "name": "stdout",
     "output_type": "stream",
     "text": [
      "[[[0, 0, 0, 1, 2]], [[2, 0, 2, 3, 0], [3, 2, 3, 0, 0], [1, 3, 0, 0, 2]], [[2, 0, 4, 1, 0], [3, 4, 1, 0, 0], [1, 1, 0, 0, 4]], [[2, 0, 3, 4, 0], [3, 3, 4, 0, 0], [1, 4, 0, 0, 3]]]\n",
      "[[0], [1, 2, 3], [4, 5, 6], [7, 8, 9]]\n",
      "[[0, 0], [1, 0], [1, 1], [1, 2], [2, 0], [2, 1], [2, 2], [3, 0], [3, 1], [3, 2]]\n"
     ]
    }
   ],
   "source": [
    "#１つのピースにつき、ピースの回転×場所分のQubitを用意する。\n",
    "#配列にその情報を格納しておく。\n",
    "#どのピースを, どの場所に、どの回転で\n",
    "#0が２つある最初のピースは左上に固定\n",
    "prb=[0]*len(p)\n",
    "prb_qubo=[0]*len(p)\n",
    "qubo_prb=[]\n",
    "\n",
    "#0が２つある最初のピースを左上に固定\n",
    "prb[0]=[]\n",
    "prb_qubo[0]=[]\n",
    "#prb[0].append([0,0,0,1,2])\n",
    "#prb_qubo[0].append([0])\n",
    "#qubo_prb.append([0,0])\n",
    "add_prb(prb, prb_qubo, qubo_prb, 0, 0, p[0])\n",
    "#qubo_counter = 1\n",
    "for i in range(1, len(p)):\n",
    "    prb[i]=[]\n",
    "    prb_qubo[i]=[]\n",
    "    #counter = 0\n",
    "    num0=len(np.where(np.array(p[i])==0)[0])\n",
    "    for j in range(len(pr[i])):\n",
    "        location = -1\n",
    "        #0が２つある他のピースは、残りの角３つのどこかに配置\n",
    "        if num0==2:\n",
    "            #３隅をループ。zipの２番目の引数は、どこが0になるか\n",
    "            #for k, gp in zip([3,12,15],[[1,2],[0,3],[2,3]]):\n",
    "            for k, gp in zip([1,2,3],[[1,2],[0,3],[2,3]]):\n",
    "                #ボードの隅がグレーになっているものを選ぶ\n",
    "                if pr[i][j][gp[0]]==0 and pr[i][j][gp[1]]==0:\n",
    "                    add_prb(prb, prb_qubo, qubo_prb, i, k, pr[i][j])\n",
    "        #0が1つあるものは、辺のどこかに配置\n",
    "        elif num0==1:\n",
    "            #辺上のセルをループ。zipの２番目の引数は、どこが0になるか\n",
    "            for k, gp in zip([1,2,4,7,8,11,13,14],[1,1,0,2,0,2,3,3]):\n",
    "                #辺の部分がグレーになっているものを選ぶ\n",
    "                if pr[i][j][gp]==0:\n",
    "                    add_prb(prb, prb_qubo, qubo_prb, i, k, pr[i][j])\n",
    "        #それ以外のは、真ん中の4つにすべての回転で配置\n",
    "        else:  \n",
    "            for k in [5,6,9,10]:\n",
    "                add_prb(prb, prb_qubo, qubo_prb, i, k, pr[i][j])\n",
    "print(prb)\n",
    "print(prb_qubo)\n",
    "print(qubo_prb)"
   ]
  },
  {
   "cell_type": "code",
   "execution_count": 117,
   "metadata": {},
   "outputs": [
    {
     "data": {
      "image/png": "[encoded data removed]",
      "text/plain": [
       "<Figure size 432x288 with 1 Axes>"
      ]
     },
     "metadata": {
      "needs_background": "light"
     },
     "output_type": "display_data"
    }
   ],
   "source": [
    "cplot([0,2,6,7],prb, qubo_prb)"
   ]
  },
  {
   "cell_type": "code",
   "execution_count": null,
   "metadata": {},
   "outputs": [],
   "source": []
  }
 ],
 "metadata": {
  "kernelspec": {
   "display_name": "Python 3",
   "language": "python",
   "name": "python3"
  },
  "language_info": {
   "codemirror_mode": {
    "name": "ipython",
    "version": 3
   },
   "file_extension": ".py",
   "mimetype": "text/x-python",
   "name": "python",
   "nbconvert_exporter": "python",
   "pygments_lexer": "ipython3",
   "version": "3.7.2"
  }
 },
 "nbformat": 4,
 "nbformat_minor": 2
}
